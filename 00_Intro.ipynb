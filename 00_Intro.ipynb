{
 "cells": [
  {
   "attachments": {},
   "cell_type": "markdown",
   "metadata": {},
   "source": [
    "# Libraries 📚"
   ]
  },
  {
   "cell_type": "code",
   "execution_count": 2,
   "metadata": {},
   "outputs": [
    {
     "name": "stderr",
     "output_type": "stream",
     "text": [
      "/Users/dhebel/Library/Python/3.9/lib/python/site-packages/urllib3/__init__.py:34: NotOpenSSLWarning: urllib3 v2.0 only supports OpenSSL 1.1.1+, currently the 'ssl' module is compiled with 'LibreSSL 2.8.3'. See: https://github.com/urllib3/urllib3/issues/3020\n",
      "  warnings.warn(\n"
     ]
    }
   ],
   "source": [
    "import glob\n",
    "import json\n",
    "import numpy as np"
   ]
  },
  {
   "attachments": {},
   "cell_type": "markdown",
   "metadata": {},
   "source": [
    "# Obtain files 🗂️"
   ]
  },
  {
   "cell_type": "code",
   "execution_count": 2,
   "metadata": {},
   "outputs": [],
   "source": [
    "files_MUM_03 = glob.glob('translations/0.3/mu-/*.json')\n",
    "files_MUP_03 = glob.glob('translations/0.3/mu+/*.json')\n",
    "files_MUM_01 = glob.glob('translations/0.1/mu-/*.json')\n",
    "files_MUP_01 = glob.glob('translations/0.1/mu+/*.json')\n",
    "files_NEU_03 = glob.glob('translations/0.3/neutron/*.json')"
   ]
  },
  {
   "attachments": {},
   "cell_type": "markdown",
   "metadata": {},
   "source": [
    "# Building X and y matrices"
   ]
  },
  {
   "cell_type": "code",
   "execution_count": null,
   "metadata": {},
   "outputs": [],
   "source": [
    "def reconstruct_matrix(filelist):\n",
    "        # The matrix will be filled with the energy deposited in each sparse coordinate (same coordinates as in the matrix).\n",
    "        # The first channel is filled with the energy from the hits of the side 1 and the second channel is filled with the energy from hits of the side 2.\n",
    "        \n",
    "        X = []\n",
    "        \n",
    "        for file in filelist:\n",
    "                with open(file) as f:\n",
    "                        data = json.load(f)\n",
    "\n",
    "                for event, event_data in data.items():\n",
    "                        side_1 = event_data['gruid hits - side 1']\n",
    "                        side_2 = event_data['gruid hits - side 2']\n",
    "                        gruid_metadata = event_data['gruid metadata']\n",
    "                        \n",
    "                matrix = np.zeros((gruid_metadata['# of rows (y)'], gruid_metadata['# of columns (x)'], 2))\n",
    "        \n",
    "                # IMPORTANT: Coordinates are inverted in the matrix because of matrix notation in GRUID.\n",
    "                        \n",
    "                # Side 1\n",
    "                for timestamp, timestamp_data in side_1.items():\n",
    "                        for pixel, pixel_data in timestamp_data.items():\n",
    "                                x, y = pixel.split(\",\")\n",
    "                                matrix[ int(y), int(x), 0 ] = pixel_data['energy deposited']\n",
    "\n",
    "                # Side 2\n",
    "                for timestamp, timestamp_data in side_2.items():\n",
    "                        for pixel, pixel_data in timestamp_data.items():\n",
    "                                x, y = pixel.split(\",\")\n",
    "                                matrix[ int(y), int(x), 1 ] = pixel_data['energy deposited']\n",
    "                                                \n",
    "                X.append(matrix)\n",
    "                \n",
    "        return np.array(X)\n",
    "     \n",
    "   \n",
    "# 0.3 --------------------------------------------\n",
    "muon_labels = np.ones(len(files_MUM_03))\n",
    "antimuon_labels = np.zeros(len(files_MUP_03))\n",
    "y_03 = np.concatenate((muon_labels, antimuon_labels))\n",
    "\n",
    "muons = reconstruct_matrix(files_MUM_03)\n",
    "antimuons = reconstruct_matrix(files_MUP_03)\n",
    "X_03 = np.concatenate((muons, antimuons))\n",
    "\n",
    "# 0.1 --------------------------------------------\n",
    "muon_labels = np.ones(len(files_MUM_01))\n",
    "antimuon_labels = np.zeros(len(files_MUP_01))\n",
    "y_01 = np.concatenate((muon_labels, antimuon_labels))\n",
    "\n",
    "muons = reconstruct_matrix(files_MUM_01)\n",
    "antimuons = reconstruct_matrix(files_MUP_01)\n",
    "X_01 = np.concatenate((muons, antimuons))\n",
    "\n",
    "neutrons = reconstruct_matrix(files_NEU_03)\n",
    "neutron_labels = np.ones(len(files_NEU_03))*2"
   ]
  },
  {
   "attachments": {},
   "cell_type": "markdown",
   "metadata": {},
   "source": [
    "## Saving Matrices to files"
   ]
  },
  {
   "cell_type": "code",
   "execution_count": 5,
   "metadata": {},
   "outputs": [],
   "source": [
    "# Save matrices to file\n",
    "np.save('matrices/X_03.npy', X_03)\n",
    "np.save('matrices/y_03.npy', y_03)\n",
    "np.save('matrices/X_01.npy', X_01)\n",
    "np.save('matrices/y_01.npy', y_01)\n",
    "np.save('matrices/nX.npy', neutrons)\n",
    "np.save('matrices/ny.npy', neutron_labels)"
   ]
  },
  {
   "cell_type": "code",
   "execution_count": null,
   "metadata": {},
   "outputs": [],
   "source": []
  }
 ],
 "metadata": {
  "kernelspec": {
   "display_name": "Python 3 (ipykernel)",
   "language": "python",
   "name": "python3"
  },
  "language_info": {
   "codemirror_mode": {
    "name": "ipython",
    "version": 3
   },
   "file_extension": ".py",
   "mimetype": "text/x-python",
   "name": "python",
   "nbconvert_exporter": "python",
   "pygments_lexer": "ipython3",
   "version": "3.9.6"
  }
 },
 "nbformat": 4,
 "nbformat_minor": 2
}

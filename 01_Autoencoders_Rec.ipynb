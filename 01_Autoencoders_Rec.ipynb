{
 "cells": [
  {
   "attachments": {},
   "cell_type": "markdown",
   "metadata": {},
   "source": [
    "# Libraries 📚"
   ]
  },
  {
   "cell_type": "code",
   "execution_count": null,
   "metadata": {},
   "outputs": [],
   "source": [
    "import numpy as np\n",
    "from sklearn.model_selection import train_test_split\n",
    "import time\n",
    "\n",
    "# IPNYB\n",
    "import matplotlib.pyplot as plt\n",
    "\n",
    "# Autoencoder\n",
    "# Model and performance\n",
    "import tensorflow as tf\n",
    "from tensorflow import keras\n",
    "from keras import layers\n",
    "from keras.models import Model, Sequential\n",
    "from keras.layers import Dense, Flatten, Reshape, Input, InputLayer"
   ]
  },
  {
   "attachments": {},
   "cell_type": "markdown",
   "metadata": {},
   "source": [
    "# Code 💻"
   ]
  },
  {
   "attachments": {},
   "cell_type": "markdown",
   "metadata": {},
   "source": [
    "## Loading saved matrices "
   ]
  },
  {
   "cell_type": "code",
   "execution_count": null,
   "metadata": {},
   "outputs": [],
   "source": [
    "# Load matrices from previously generated files\n",
    "X_01 = np.load('matrices/X_01.npy')\n",
    "y_01 = np.load('matrices/y_01.npy')\n",
    "X_03 = np.load('matrices/X_03.npy')\n",
    "y_03 = np.load('matrices/y_03.npy')\n",
    "nX = np.load('matrices/nX.npy')\n",
    "ny = np.load('matrices/ny.npy')"
   ]
  },
  {
   "attachments": {},
   "cell_type": "markdown",
   "metadata": {},
   "source": [
    "## Reviewing Shapes"
   ]
  },
  {
   "cell_type": "code",
   "execution_count": null,
   "metadata": {},
   "outputs": [],
   "source": [
    "print(X_03.shape, y_03.shape)\n",
    "print(X_01.shape, y_01.shape)\n",
    "print(nX.shape, ny.shape)"
   ]
  },
  {
   "cell_type": "code",
   "execution_count": null,
   "metadata": {},
   "outputs": [],
   "source": [
    "# Make the 0.1 the standard dataset\n",
    "X = X_01\n",
    "y = y_01"
   ]
  },
  {
   "attachments": {},
   "cell_type": "markdown",
   "metadata": {},
   "source": [
    "## Auto-Encoder Approach"
   ]
  },
  {
   "attachments": {},
   "cell_type": "markdown",
   "metadata": {},
   "source": [
    "### Train test split"
   ]
  },
  {
   "cell_type": "code",
   "execution_count": null,
   "metadata": {},
   "outputs": [],
   "source": [
    "# Use the matrices to train the model, we will train an autoencoder for the muon events.\n",
    "# Train test split\n",
    "        \n",
    "# Muons --------------------------------------------------------------\n",
    "print('Muons:')\n",
    "# Use X and y to recover the muon events using target vector (1 = muon, 0 = antimuon)\n",
    "muons = X[y == 1]\n",
    "muon_labels = y[y == 1]\n",
    "\n",
    "X_train, X_test, y_train, y_test = train_test_split(muons, muon_labels, test_size=0.2)\n",
    "X_train, X_val, y_train, y_val = train_test_split(X_train, y_train, test_size=0.2)\n",
    "\n",
    "# Normalizing the data\n",
    "# We will use the function normalize from keras.utils to normalize the data.\n",
    "# We will normalize the data by dividing the data by the maximum value of the data.\n",
    "X_train = keras.utils.normalize(X_train, axis=1)\n",
    "X_val = keras.utils.normalize(X_val, axis=1)\n",
    "X_test = keras.utils.normalize(X_test, axis=1)\n",
    "\n",
    "# Reshape the y data to be a column one-hot encoded vector.\n",
    "y_train = keras.utils.to_categorical(y_train, 2)\n",
    "y_val = keras.utils.to_categorical(y_val, 2)\n",
    "y_test = keras.utils.to_categorical(y_test, 2)\n",
    "\n",
    "# Check the number of records\n",
    "print('The number of records in the training dataset is', X_train.shape[0])\n",
    "print('The number of records in the test dataset is', X_test.shape[0])\n",
    "\n",
    "print(f\"Muon shapes: Train: {X_train.shape}, Val: {X_val.shape}, Test: {X_test.shape}, Train labels: {y_train.shape}, Val labels: {y_val.shape}, Test labels: {y_test.shape}\")\n",
    "# Show target vector (1 = muon, 0 = antimuon)\n",
    "#print(f\"Muon target training vector: {y_train}\")\n",
    "\n",
    "print(' ')\n",
    "print(' ')\n",
    "\n",
    "# Antimuons --------------------------------------------------------------\n",
    "print('Antimuons')\n",
    "# Use X and y to recover the antimuon events\n",
    "antimuons = X[y == 0]\n",
    "antimuon_labels = y[y == 0]\n",
    "\n",
    "# Train test split for antimuon data\n",
    "aX_train, aX_test, ay_train, ay_test = train_test_split(antimuons, antimuon_labels, test_size=0.2)\n",
    "aX_train, aX_val, ay_train, ay_val = train_test_split(aX_train, ay_train, test_size=0.2)\n",
    "\n",
    "# Normalizing the data\n",
    "# We will use the function normalize from keras.utils to normalize the data.\n",
    "# We will normalize the data by dividing the data by the maximum value of the data.\n",
    "aX_train = keras.utils.normalize(aX_train, axis=1)\n",
    "aX_val = keras.utils.normalize(aX_val, axis=1)\n",
    "aX_test = keras.utils.normalize(aX_test, axis=1)\n",
    "\n",
    "ay_train = keras.utils.to_categorical(ay_train, 2)\n",
    "ay_val = keras.utils.to_categorical(ay_val, 2)\n",
    "ay_test = keras.utils.to_categorical(ay_test, 2)\n",
    "\n",
    "print(' ')\n",
    "print(' ')\n",
    "\n",
    "# Check the number of records\n",
    "print('The number of records in the training dataset is', aX_train.shape[0])\n",
    "print('The number of records in the test dataset is', aX_test.shape[0])\n",
    "print(f\"Antimuon shapes: Train: {aX_train.shape}, Val: {aX_val.shape}, Test: {aX_test.shape}, Train labels: {ay_train.shape}, Val labels: {ay_val.shape}, Test labels: {ay_test.shape}\")\n",
    "\n",
    "# Neutrons --------------------------------------------------------------\n",
    "print('Neutrons')\n",
    "# Normalizing the data\n",
    "nX = keras.utils.normalize(nX, axis=1)\n",
    "print(f\"Neutron shapes: {nX.shape, ny.shape}\")\n"
   ]
  },
  {
   "attachments": {},
   "cell_type": "markdown",
   "metadata": {},
   "source": [
    "### Plot events"
   ]
  },
  {
   "cell_type": "code",
   "execution_count": null,
   "metadata": {},
   "outputs": [],
   "source": [
    "# Plotting a muon event\n",
    "# We will plot a muon event from the training set.\n",
    "# We will use the function imshow from matplotlib.pyplot to plot the event.\n",
    "# We will use the parameter cmap to plot the two channels of the event with different colors.\n",
    "# Plotting the two channels of the event with different colors with shared axis.\n",
    "# Plot 3 random events from the training set.\n",
    "\n",
    "random_events = np.random.randint(0, X_train.shape[0], 1)\n",
    "print(random_events)\n",
    "\n",
    "for i in random_events:\n",
    "        fig, axs = plt.subplots(1, 2, figsize=(15, 20))\n",
    "        axs[0].imshow(X_train[i,:,:,0], cmap='Reds')\n",
    "        axs[0].set_title('Muon' if y_train[i][0] == 0 else 'Antimuon')\n",
    "        axs[1].imshow(X_train[i,:,:,1], cmap='Blues')\n",
    "        axs[1].set_title('Muon' if y_train[i][0] == 0 else 'Antimuon')\n",
    "        # Show tick labels on both sides\n",
    "        axs[0].tick_params('x', labelbottom=True, labeltop=True)\n",
    "        axs[0].tick_params('y', labelleft=True, labelright=True)\n",
    "        axs[1].tick_params('x', labelbottom=True, labeltop=True)\n",
    "        axs[1].tick_params('y', labelleft=True, labelright=True)\n",
    "        axs[0].set_xlabel('Side 1')\n",
    "        axs[1].set_xlabel('Side 2')\n",
    "        \n",
    "plt.show()"
   ]
  },
  {
   "attachments": {},
   "cell_type": "markdown",
   "metadata": {},
   "source": [
    "### Autoencoder 1"
   ]
  },
  {
   "cell_type": "code",
   "execution_count": null,
   "metadata": {},
   "outputs": [],
   "source": [
    "# Step 5: Autoencoder Model Training\n",
    " # We will train the autoencoder model using only the muon training set.\n",
    "MATRIX_SHAPE = X_train.shape[1:]\n",
    "\n",
    "# Input layer: the input are images with two channels (side 1 and side 2)\n",
    "input = tf.keras.layers.Input(shape=(MATRIX_SHAPE))\n",
    "activation_function = 'relu'\n",
    "\n",
    "# Encoder layers\n",
    "encoder = tf.keras.Sequential([\n",
    "layers.Flatten(),\n",
    "layers.Dense(np.prod(MATRIX_SHAPE), activation=activation_function),\n",
    "layers.Dense(X_train.shape[1]*X_train.shape[2], activation=activation_function),\n",
    "layers.Dense(X_train.shape[1], activation=activation_function)])(input)\n",
    "#layers.Dense(X_train.shape[2], activation=activation_function)])(input)\n",
    "\n",
    "# Decoder layers\n",
    "decoder = tf.keras.Sequential([\n",
    "#layers.Dense(X_train.shape[2], activation=activation_function),\n",
    "layers.Dense(X_train.shape[1], activation=activation_function),\n",
    "layers.Dense(X_train.shape[1]*X_train.shape[2], activation=activation_function),\n",
    "layers.Dense(np.prod(MATRIX_SHAPE), activation=activation_function),\n",
    "layers.Reshape(MATRIX_SHAPE)])(encoder)\n",
    "\n",
    "# Create the autoencoder\n",
    "autoencoder = Model(input, decoder)\n",
    "\n",
    "# Compile the autoencoder\n",
    "autoencoder.compile(optimizer='adam', loss='mse', metrics=['accuracy'])\n",
    "\n",
    "# Print the summary of the autoencoder\n",
    "print(autoencoder.summary())\n",
    "\n",
    "# Fit the autoencoder\n",
    "start = time.time()\n",
    "history = autoencoder.fit(X_train, X_train, \n",
    "        epochs=30, \n",
    "        validation_data=(X_val, X_val),\n",
    "        shuffle=True)\n",
    "end = time.time()\n",
    "print('Training time:', end - start)\n"
   ]
  },
  {
   "cell_type": "code",
   "execution_count": null,
   "metadata": {},
   "outputs": [],
   "source": [
    "# Plotting the training and validation loss and accuracy\n",
    "fig, axs = plt.subplots(1, 2, figsize=(20, 7))\n",
    "axs[0].plot(history.history['loss'], label='Training loss')\n",
    "axs[0].plot(history.history['val_loss'], label='Validation loss')\n",
    "axs[0].set_title('Training and validation loss')\n",
    "axs[0].set_xlabel('Epoch')\n",
    "axs[0].set_ylabel('Loss')\n",
    "axs[0].legend()\n",
    "axs[0].grid(True)\n",
    "axs[1].plot(history.history['accuracy'], label='Training accuracy')\n",
    "axs[1].plot(history.history['val_accuracy'], label='Validation accuracy')\n",
    "axs[1].set_title('Training and validation accuracy')\n",
    "axs[1].set_xlabel('Epoch')\n",
    "axs[1].set_ylabel('Accuracy')\n",
    "axs[1].legend()\n",
    "axs[1].grid(True)\n",
    "plt.show()"
   ]
  },
  {
   "cell_type": "markdown",
   "metadata": {},
   "source": [
    "### Just making sure..."
   ]
  },
  {
   "cell_type": "code",
   "execution_count": null,
   "metadata": {},
   "outputs": [],
   "source": [
    "# Plotting the test loss and accuracy\n",
    "autoencoder_test_loss, autoencoder_test_accuracy = autoencoder.evaluate(X_test, X_test)\n",
    "print('Autoencoder test loss:', autoencoder_test_loss)\n",
    "print('Autoencoder test accuracy:', autoencoder_test_accuracy)\n"
   ]
  },
  {
   "cell_type": "code",
   "execution_count": null,
   "metadata": {},
   "outputs": [],
   "source": [
    "print(autoencoder.metrics_names)\n",
    "print(autoencoder_test_loss, autoencoder_test_accuracy)"
   ]
  },
  {
   "attachments": {},
   "cell_type": "markdown",
   "metadata": {},
   "source": [
    "#### Predicting"
   ]
  },
  {
   "cell_type": "code",
   "execution_count": null,
   "metadata": {},
   "outputs": [],
   "source": [
    "# Plot the difference between the input and the reconstructed output, we want to make sure that data is not separable so we feed the antimuon data to the autoencoder.\n",
    "# We expect the reconstructed output caused by antimuon data to be non differentiable from the input.\n",
    "\n",
    "# Predict on the test set\n",
    "X_test_pred = autoencoder.predict(X_test)\n",
    "aX_test_pred = autoencoder.predict(aX_test)\n",
    "\n",
    "# Calculate the mean squared error\n",
    "X_test_pred_mse_loss = tf.keras.losses.mse(X_test_pred, X_test)\n",
    "aX_test_pred_mse_loss = tf.keras.losses.mse(aX_test_pred, aX_test)\n",
    "\n",
    "# Mean over the side and channel axes\n",
    "X_test_pred_mse_loss = np.mean(X_test_pred_mse_loss, axis=(1,2))\n",
    "aX_test_pred_mse_loss = np.mean(aX_test_pred_mse_loss, axis=(1,2))"
   ]
  },
  {
   "cell_type": "code",
   "execution_count": null,
   "metadata": {},
   "outputs": [],
   "source": [
    "# Plot the distribution of the reconstruction loss\n",
    "plt.figure(figsize=(10, 7))\n",
    "plt.scatter(range(len(X_test_pred_mse_loss)), X_test_pred_mse_loss, color='blue', label='Reconstruction loss muons')\n",
    "plt.scatter(range(len(aX_test_pred_mse_loss)), aX_test_pred_mse_loss, color='orange', label='Reconstruction loss antimuons')\n",
    "plt.xlabel('Event ID')\n",
    "plt.ylabel('Mean Squared Error')\n",
    "plt.title('MSE Error Reconstruction')\n",
    "# Plot a horizontal line at 0.05 to set as a threshold\n",
    "plt.axhline(y=0.005, color='green', linestyle='-', label='Threshold')\n",
    "plt.legend()\n",
    "plt.grid(True)\n",
    "plt.show()\n"
   ]
  },
  {
   "attachments": {},
   "cell_type": "markdown",
   "metadata": {},
   "source": [
    "#### Muon vs Reconstructed Muon (same event)"
   ]
  },
  {
   "cell_type": "code",
   "execution_count": null,
   "metadata": {},
   "outputs": [],
   "source": [
    "# Plotting a muon event and its reconstruction\n",
    "# We will plot a muon event from the training set and its reconstruction from the autoencoder.\n",
    "\n",
    "random_events = np.random.randint(0, X_test.shape[0], 1)\n",
    "print(random_events)\n",
    "\n",
    "for i in random_events:\n",
    "        fig, axs = plt.subplots(1, 4, figsize=(30, 40))\n",
    "        \n",
    "        # Event\n",
    "        axs[0].imshow(X_test[i,:,:,0], cmap='Reds')\n",
    "        axs[0].set_title('Muon' if y_test[i][0] == 0 else 'Antimuon')\n",
    "        axs[1].imshow(X_test[i,:,:,1], cmap='Blues')\n",
    "        axs[1].set_title('Muon' if y_test[i][0] == 0 else 'Antimuon')\n",
    "        \n",
    "        # Reconstructed event\n",
    "        axs[2].imshow(X_test_pred[i,:,:,0], cmap='Reds')\n",
    "        axs[2].set_title('Muon' if y_test[i][0] == 0 else 'Antimuon')\n",
    "        axs[3].imshow(X_test_pred[i,:,:,1], cmap='Blues')\n",
    "        axs[3].set_title('Muon' if y_test[i][0] == 0 else 'Antimuon')\n",
    "        \n",
    "        # Show tick labels on both sides\n",
    "        axs[0].tick_params('x', labelbottom=True, labeltop=True)\n",
    "        axs[0].tick_params('y', labelleft=True, labelright=True)\n",
    "        axs[0].set_xlabel('Side 1')\n",
    "        \n",
    "        axs[1].tick_params('x', labelbottom=True, labeltop=True)\n",
    "        axs[1].tick_params('y', labelleft=True, labelright=True)\n",
    "        axs[1].set_xlabel('Side 2')\n",
    "        \n",
    "        # Show tick labels on both sides\n",
    "        axs[2].tick_params('x', labelbottom=True, labeltop=True)\n",
    "        axs[2].tick_params('y', labelleft=True, labelright=True)\n",
    "        axs[2].set_xlabel('Side 1 - Reconstruction')\n",
    "        \n",
    "        axs[3].tick_params('x', labelbottom=True, labeltop=True)\n",
    "        axs[3].tick_params('y', labelleft=True, labelright=True)\n",
    "        axs[3].set_xlabel('Side 2 - Reconstruction')\n",
    "        \n",
    "plt.show()"
   ]
  },
  {
   "attachments": {},
   "cell_type": "markdown",
   "metadata": {},
   "source": [
    "#### Antimuon vs Reconstructed Antimuon (same event)"
   ]
  },
  {
   "cell_type": "code",
   "execution_count": null,
   "metadata": {},
   "outputs": [],
   "source": [
    "random_events = np.random.randint(0, aX_test.shape[0], 1)\n",
    "print(random_events)\n",
    "for i in random_events:\n",
    "        fig, axs = plt.subplots(1, 4, figsize=(30, 40))\n",
    "        \n",
    "        # Event\n",
    "        axs[0].imshow(aX_test[i,:,:,0], cmap='Reds')\n",
    "        axs[0].set_title('Muon' if ay_test[i][0] == 0 else 'Antimuon')\n",
    "        axs[1].imshow(aX_test[i,:,:,1], cmap='Blues')\n",
    "        axs[1].set_title('Muon' if ay_test[i][0] == 0 else 'Antimuon')\n",
    "        \n",
    "        # Reconstructed event\n",
    "        axs[2].imshow(aX_test_pred[i,:,:,0], cmap='Reds')\n",
    "        axs[2].set_title('Muon' if ay_test[i][0] == 0 else 'Antimuon')\n",
    "        axs[3].imshow(aX_test_pred[i,:,:,1], cmap='Blues')\n",
    "        axs[3].set_title('Muon' if ay_test[i][0] == 0 else 'Antimuon')\n",
    "        \n",
    "        # Show tick labels on both sides\n",
    "        axs[0].tick_params('x', labelbottom=True, labeltop=True)\n",
    "        axs[0].tick_params('y', labelleft=True, labelright=True)\n",
    "        axs[0].set_xlabel('Side 1')\n",
    "        \n",
    "        axs[1].tick_params('x', labelbottom=True, labeltop=True)\n",
    "        axs[1].tick_params('y', labelleft=True, labelright=True)\n",
    "        axs[1].set_xlabel('Side 2')\n",
    "        \n",
    "        # Show tick labels on both sides\n",
    "        axs[2].tick_params('x', labelbottom=True, labeltop=True)\n",
    "        axs[2].tick_params('y', labelleft=True, labelright=True)\n",
    "        axs[2].set_xlabel('Side 1 - Reconstruction')\n",
    "        \n",
    "        axs[3].tick_params('x', labelbottom=True, labeltop=True)\n",
    "        axs[3].tick_params('y', labelleft=True, labelright=True)\n",
    "        axs[3].set_xlabel('Side 2 - Reconstruction')\n",
    "        \n",
    "plt.show()"
   ]
  },
  {
   "attachments": {},
   "cell_type": "markdown",
   "metadata": {},
   "source": [
    "### Autoencoder 2 (Latent space a little bit bigger)"
   ]
  },
  {
   "cell_type": "code",
   "execution_count": null,
   "metadata": {},
   "outputs": [],
   "source": [
    "def build_autoencoder(img_shape, code_size, activation_function):\n",
    "    # Encoder\n",
    "    encoder = Sequential()\n",
    "    encoder.add(InputLayer(img_shape))\n",
    "    encoder.add(Flatten())\n",
    "    encoder.add(Dense(code_size, activation=activation_function))\n",
    "    \n",
    "    # Decoder\n",
    "    decoder = Sequential()\n",
    "    decoder.add(InputLayer((code_size,)))\n",
    "    decoder.add(Dense(np.prod(img_shape), activation=activation_function)) # np.prod(img_shape) is the same as 7*5*2, it's more generic than saying 70\n",
    "    decoder.add(Reshape(img_shape))\n",
    "\n",
    "    return encoder, decoder\n",
    "\n",
    "MATRIX_SHAPE = X_train.shape[1:]\n",
    "print(Input(MATRIX_SHAPE))\n",
    "activation_function = 'relu'\n",
    "encoder, decoder = build_autoencoder(MATRIX_SHAPE, 32, activation_function)\n",
    "\n",
    "inp = Input(MATRIX_SHAPE)\n",
    "code = encoder(inp)\n",
    "reconstruction = decoder(code)\n",
    "\n",
    "autoencoder_2 = Model(inp, reconstruction)\n",
    "autoencoder_2.compile(optimizer='adam', loss='mse', metrics=\"accuracy\")\n",
    "print(autoencoder_2.summary())\n",
    "\n",
    "# Fit the autoencoder\n",
    "start = time.time()\n",
    "history = autoencoder_2.fit(X_train, X_train, \n",
    "          epochs=30, \n",
    "          validation_data=(X_val, X_val),\n",
    "          shuffle=True)\n",
    "end = time.time()\n",
    "print('Training time:', end - start)\n"
   ]
  },
  {
   "cell_type": "code",
   "execution_count": null,
   "metadata": {},
   "outputs": [],
   "source": [
    "# Plotting the training and validation loss and accuracy\n",
    "fig, axs = plt.subplots(1, 2, figsize=(20, 7))\n",
    "axs[0].plot(history.history['loss'], label='Training loss')\n",
    "axs[0].plot(history.history['val_loss'], label='Validation loss')\n",
    "axs[0].set_title('Training and validation loss')\n",
    "axs[0].set_xlabel('Epoch')\n",
    "axs[0].set_ylabel('Loss')\n",
    "axs[0].legend()\n",
    "axs[0].grid(True)\n",
    "axs[1].plot(history.history['accuracy'], label='Training accuracy')\n",
    "axs[1].plot(history.history['val_accuracy'], label='Validation accuracy')\n",
    "axs[1].set_title('Training and validation accuracy')\n",
    "axs[1].set_xlabel('Epoch')\n",
    "axs[1].set_ylabel('Accuracy')\n",
    "axs[1].legend()\n",
    "axs[1].grid(True)\n",
    "plt.show()"
   ]
  },
  {
   "attachments": {},
   "cell_type": "markdown",
   "metadata": {},
   "source": [
    "#### Predicting"
   ]
  },
  {
   "cell_type": "code",
   "execution_count": null,
   "metadata": {},
   "outputs": [],
   "source": [
    "# Plot the difference between the input and the reconstructed output, we want to make sure that data is not separable so we feed the antimuon data to the autoencoder.\n",
    "# We expect the reconstructed output caused by antimuon data to be non differentiable from the input.\n",
    "\n",
    "# Predict on the test set\n",
    "X_test_pred = autoencoder_2.predict(X_test)\n",
    "aX_test_pred = autoencoder_2.predict(aX_test)\n",
    "\n",
    "# Calculate the mean squared error\n",
    "X_test_pred_mse_loss = tf.keras.losses.mse(X_test_pred, X_test)\n",
    "aX_test_pred_mse_loss = tf.keras.losses.mse(aX_test_pred, aX_test)\n",
    "\n",
    "# Mean over the side and channel axes\n",
    "X_test_pred_mse_loss = np.mean(X_test_pred_mse_loss, axis=(1,2))\n",
    "aX_test_pred_mse_loss = np.mean(aX_test_pred_mse_loss, axis=(1,2))\n",
    "\n",
    "# Plot the distribution of the reconstruction loss\n",
    "plt.figure(figsize=(10, 7))\n",
    "plt.scatter(range(len(X_test_pred_mse_loss)), X_test_pred_mse_loss, color='blue', label='Reconstruction loss muons')\n",
    "plt.scatter(range(len(aX_test_pred_mse_loss)), aX_test_pred_mse_loss, color='orange', label='Reconstruction loss antimuons')\n",
    "plt.xlabel('Event ID')\n",
    "plt.ylabel('Mean Squared Error')\n",
    "plt.title('MSE Error Reconstruction')\n",
    "# Plot a horizontal line at 0.05 to set as a threshold\n",
    "plt.axhline(y=0.005, color='green', linestyle='-', label='Threshold')\n",
    "plt.legend()\n",
    "plt.grid(True)\n",
    "plt.show()\n"
   ]
  },
  {
   "attachments": {},
   "cell_type": "markdown",
   "metadata": {},
   "source": [
    "#### Muon vs Reconstructed Muon (same event)"
   ]
  },
  {
   "cell_type": "code",
   "execution_count": null,
   "metadata": {},
   "outputs": [],
   "source": [
    "# Plotting a muon event and its reconstruction\n",
    "# We will plot a muon event from the training set and its reconstruction from the autoencoder.\n",
    "\n",
    "random_events = np.random.randint(0, X_test.shape[0], 1)\n",
    "print(random_events)\n",
    "\n",
    "for i in random_events:\n",
    "        fig, axs = plt.subplots(1, 4, figsize=(30, 40))\n",
    "        \n",
    "        # Event\n",
    "        axs[0].imshow(X_test[i,:,:,0], cmap='Reds')\n",
    "        axs[0].set_title('Muon' if y_test[i][0] == 0 else 'Antimuon')\n",
    "        axs[1].imshow(X_test[i,:,:,1], cmap='Blues')\n",
    "        axs[1].set_title('Muon' if y_test[i][0] == 0 else 'Antimuon')\n",
    "        \n",
    "        # Reconstructed event\n",
    "        axs[2].imshow(X_test_pred[i,:,:,0], cmap='Reds')\n",
    "        axs[2].set_title('Muon' if y_test[i][0] == 0 else 'Antimuon')\n",
    "        axs[3].imshow(X_test_pred[i,:,:,1], cmap='Blues')\n",
    "        axs[3].set_title('Muon' if y_test[i][0] == 0 else 'Antimuon')\n",
    "        \n",
    "        # Show tick labels on both sides\n",
    "        axs[0].tick_params('x', labelbottom=True, labeltop=True)\n",
    "        axs[0].tick_params('y', labelleft=True, labelright=True)\n",
    "        axs[0].set_xlabel('Side 1')\n",
    "        \n",
    "        axs[1].tick_params('x', labelbottom=True, labeltop=True)\n",
    "        axs[1].tick_params('y', labelleft=True, labelright=True)\n",
    "        axs[1].set_xlabel('Side 2')\n",
    "        \n",
    "        # Show tick labels on both sides\n",
    "        axs[2].tick_params('x', labelbottom=True, labeltop=True)\n",
    "        axs[2].tick_params('y', labelleft=True, labelright=True)\n",
    "        axs[2].set_xlabel('Side 1 - Reconstruction')\n",
    "        \n",
    "        axs[3].tick_params('x', labelbottom=True, labeltop=True)\n",
    "        axs[3].tick_params('y', labelleft=True, labelright=True)\n",
    "        axs[3].set_xlabel('Side 2 - Reconstruction')\n",
    "        \n",
    "plt.show()"
   ]
  },
  {
   "attachments": {},
   "cell_type": "markdown",
   "metadata": {},
   "source": [
    "#### Antimuon vs Reconstructed Antimuon (same event)"
   ]
  },
  {
   "cell_type": "code",
   "execution_count": null,
   "metadata": {},
   "outputs": [],
   "source": [
    "random_events = np.random.randint(0, aX_test.shape[0], 1)\n",
    "print(random_events)\n",
    "for i in random_events:\n",
    "        fig, axs = plt.subplots(1, 4, figsize=(30, 40))        \n",
    "        \n",
    "        # Event\n",
    "        axs[0].imshow(aX_test[i,:,:,0], cmap='Reds')\n",
    "        axs[0].set_title('Muon' if ay_test[i][0] == 0 else 'Antimuon')\n",
    "        axs[1].imshow(aX_test[i,:,:,1], cmap='Blues')\n",
    "        axs[1].set_title('Muon' if ay_test[i][0] == 0 else 'Antimuon')\n",
    "        \n",
    "        # Reconstructed event\n",
    "        axs[2].imshow(aX_test_pred[i,:,:,0], cmap='Reds')\n",
    "        axs[2].set_title('Muon' if ay_test[i][0] == 0 else 'Antimuon')\n",
    "        axs[3].imshow(aX_test_pred[i,:,:,1], cmap='Blues')\n",
    "        axs[3].set_title('Muon' if ay_test[i][0] == 0 else 'Antimuon')\n",
    "        \n",
    "        # Show tick labels on both sides\n",
    "        axs[0].tick_params('x', labelbottom=True, labeltop=True)\n",
    "        axs[0].tick_params('y', labelleft=True, labelright=True)\n",
    "        axs[0].set_xlabel('Side 1')\n",
    "        \n",
    "        axs[1].tick_params('x', labelbottom=True, labeltop=True)\n",
    "        axs[1].tick_params('y', labelleft=True, labelright=True)\n",
    "        axs[1].set_xlabel('Side 2')\n",
    "        \n",
    "        # Show tick labels on both sides\n",
    "        axs[2].tick_params('x', labelbottom=True, labeltop=True)\n",
    "        axs[2].tick_params('y', labelleft=True, labelright=True)\n",
    "        axs[2].set_xlabel('Side 1 - Reconstruction')\n",
    "        \n",
    "        axs[3].tick_params('x', labelbottom=True, labeltop=True)\n",
    "        axs[3].tick_params('y', labelleft=True, labelright=True)\n",
    "        axs[3].set_xlabel('Side 2 - Reconstruction')\n",
    "        \n",
    "plt.show()"
   ]
  },
  {
   "cell_type": "code",
   "execution_count": null,
   "metadata": {},
   "outputs": [],
   "source": []
  }
 ],
 "metadata": {
  "kernelspec": {
   "display_name": "Python 3 (ipykernel)",
   "language": "python",
   "name": "python3"
  },
  "language_info": {
   "codemirror_mode": {
    "name": "ipython",
    "version": 3
   },
   "file_extension": ".py",
   "mimetype": "text/x-python",
   "name": "python",
   "nbconvert_exporter": "python",
   "pygments_lexer": "ipython3",
   "version": "3.9.6"
  }
 },
 "nbformat": 4,
 "nbformat_minor": 2
}
